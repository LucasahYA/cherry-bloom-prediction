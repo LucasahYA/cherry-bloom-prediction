{
 "cells": [
  {
   "cell_type": "markdown",
   "id": "31567ecd-597a-4de6-994a-fcb3c3b65747",
   "metadata": {},
   "source": [
    "## **TRAIN**"
   ]
  },
  {
   "cell_type": "code",
   "execution_count": null,
   "id": "ea7877d3-7a41-4d4d-9262-220c0e627cd8",
   "metadata": {},
   "outputs": [],
   "source": [
    "from sklearn.model_selection import train_test_split, GridSearchCV, KFold\n",
    "from sklearn.preprocessing import StandardScaler\n",
    "from sklearn.linear_model import LinearRegression, Ridge, Lasso, ElasticNet\n",
    "from sklearn.metrics import mean_squared_error, r2_score\n",
    "\n",
    "train_data = pd.read_csv('training_data.csv')\n",
    "df_prediction = pd.read_csv('predicting_data.csv')\n",
    "\n",
    "# 选择用于机器学习的特征\n",
    "FEATURES = ['lat', 'long', 'alt', \n",
    "       'GDD', 'GDD_cumsum', 'GDD_30d',\n",
    "       'GDD_60d', 'GDD_120d', 'GDD_rate_change_30_60',\n",
    "       'GDD_rate_change_60_120', 'TAVG_7d', 'TAVG_30d', 'PRCP_cumsum',\n",
    "       'PRCP_7d_cumsum', 'PRCP_30d_cumsum', 'PRCP_60d_cumsum',\n",
    "       'PRCP_120d_cumsum', 'PRCP_dry_days', 'PRCP_rainy_days',\n",
    "       'Frost_days_30d', 'Heat_days_30d', 'TMAX_fluctuation',\n",
    "       'Frost_days_365d', 'Heat_days_365d']\n",
    "\n",
    "#\n",
    "TARGET = \"bloom_doy\"\n",
    "\n",
    "# 准备数据\n",
    "X = train_data[FEATURES]\n",
    "y = train_data[TARGET]\n",
    "\n",
    "scaler = StandardScaler()\n",
    "X = scaler.fit_transform(X)\n",
    "\n",
    "# 划分训练集、测试集 (80% 训练, 20% 测试)\n",
    "X_train, X_test, y_train, y_test = train_test_split(X, y, test_size=0.2, random_state=333)"
   ]
  },
  {
   "cell_type": "code",
   "execution_count": null,
   "id": "76f22981-d693-40ad-8087-68479eed9f59",
   "metadata": {},
   "outputs": [],
   "source": [
    "# 初始化多种模型\n",
    "models = {\n",
    "    \"Linear Regression\": LinearRegression(),\n",
    "    \"Ridge Regression\": Ridge(),\n",
    "    \"Lasso Regression\": Lasso(),\n",
    "    \"ElasticNet\": ElasticNet(),\n",
    "}\n",
    "\n",
    "# 定义更精细的超参数范围\n",
    "param_grids = {\n",
    "    \"Ridge Regression\": {\"alpha\": np.logspace(-3, 3, 100)},  # 0.001 to 1000 {\"alpha\": [1]},#\n",
    "    \"Lasso Regression\": {\"alpha\": np.logspace(-6, 2, 100)},\n",
    "    \"ElasticNet\": {\n",
    "        \"alpha\": np.logspace(-6, 3, 100),\n",
    "        \"l1_ratio\": np.arange(0.1, 1.0, 0.2)  # 0.1 to 0.9 step 0.1\n",
    "    },\n",
    "}\n",
    "\n",
    "# 训练和超参数优化\n",
    "results = {}\n",
    "best_models = {}\n",
    "\n",
    "for name, model in models.items():\n",
    "    print(f\"Training {name}...\")\n",
    "\n",
    "    # 网格搜索超参数（如果适用）\n",
    "    if name in param_grids:\n",
    "        grid_search = GridSearchCV(model, param_grids[name], scoring=\"neg_mean_squared_error\", cv=5, n_jobs=-1)\n",
    "        grid_search.fit(X_train, y_train)\n",
    "        best_model = grid_search.best_estimator_\n",
    "        best_params = grid_search.best_params_\n",
    "    else:\n",
    "        best_model = model.fit(X_train, y_train)\n",
    "        best_params = \"Default\"\n",
    "    # 预测 & 评估\n",
    "    y_pred = best_model.predict(X_test)\n",
    "    mse = mean_squared_error(y_test, y_pred)\n",
    "    r2 = r2_score(y_test, y_pred)\n",
    "\n",
    "    results[name] = {\"MSE\": mse, \"R²\": r2, \"Best Params\": best_params}\n",
    "    best_models[name] = best_model\n",
    "\n",
    "# 显示结果\n",
    "df_results = pd.DataFrame(results).T"
   ]
  },
  {
   "cell_type": "markdown",
   "id": "ed3a53a5-a9d1-4b45-8779-93b3493851fb",
   "metadata": {},
   "source": [
    "## **PREDICIT**"
   ]
  },
  {
   "cell_type": "code",
   "execution_count": null,
   "id": "d9e68a35-b2a0-4401-bbbb-28cb6dc3f4dc",
   "metadata": {},
   "outputs": [],
   "source": [
    "df_prediction_dict = {}\n",
    "for station in df_prediction.STATION.unique():\n",
    "  df_prediction_dict[city_dict[station]] = df_prediction[df_prediction['STATION'] == station]"
   ]
  },
  {
   "cell_type": "code",
   "execution_count": null,
   "id": "33a74d77-ac42-407b-a01c-76fac3baa80c",
   "metadata": {},
   "outputs": [],
   "source": [
    "for city in df_prediction_dict:\n",
    "  for model in best_models:\n",
    "    best_model = best_models[model]\n",
    "\n",
    "    FEATURES = ['lat', 'long', 'alt', \n",
    "          'GDD', 'GDD_cumsum', 'GDD_30d',\n",
    "          'GDD_60d', 'GDD_120d', 'GDD_rate_change_30_60',\n",
    "          'GDD_rate_change_60_120', 'TAVG_7d', 'TAVG_30d', 'PRCP_cumsum',\n",
    "          'PRCP_7d_cumsum', 'PRCP_30d_cumsum', 'PRCP_60d_cumsum',\n",
    "          'PRCP_120d_cumsum', 'PRCP_dry_days', 'PRCP_rainy_days',\n",
    "          'Frost_days_30d', 'Heat_days_30d', 'TMAX_fluctuation',\n",
    "          'Frost_days_365d', 'Heat_days_365d']\n",
    "\n",
    "    X_new = df_prediction_dict[city][FEATURES]\n",
    "    X_new_scaled = scaler.transform(X_new)\n",
    "    y_pred = best_model.predict(X_new_scaled)\n",
    "    print(f'({model}) The predicted bloom doy of {city} is: {y_pred.round()}.')"
   ]
  }
 ],
 "metadata": {
  "kernelspec": {
   "display_name": "Python 3 (ipykernel)",
   "language": "python",
   "name": "python3"
  },
  "language_info": {
   "codemirror_mode": {
    "name": "ipython",
    "version": 3
   },
   "file_extension": ".py",
   "mimetype": "text/x-python",
   "name": "python",
   "nbconvert_exporter": "python",
   "pygments_lexer": "ipython3",
   "version": "3.12.4"
  }
 },
 "nbformat": 4,
 "nbformat_minor": 5
}
