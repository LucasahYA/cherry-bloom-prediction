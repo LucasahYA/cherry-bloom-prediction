{
 "cells": [
  {
   "cell_type": "code",
   "execution_count": null,
   "id": "3f90ee44-d99b-4cce-9abb-94f46885d6db",
   "metadata": {},
   "outputs": [],
   "source": [
    "import requests\n",
    "import pandas as pd\n",
    "import time\n",
    "import numpy as np"
   ]
  },
  {
   "cell_type": "code",
   "execution_count": null,
   "id": "b865636a-6517-45c8-9a44-b64f53ac0b1b",
   "metadata": {},
   "outputs": [],
   "source": [
    "df = pd.read_csv(f'us_station_id.csv')\n",
    "coutry = 'usa'\n",
    "df_weather = {}\n",
    "base_url = \"https://www.ncei.noaa.gov/access/services/data/v1\""
   ]
  },
  {
   "cell_type": "code",
   "execution_count": null,
   "id": "9667cd55-5434-4427-b2fc-787cd280c7e8",
   "metadata": {},
   "outputs": [],
   "source": [
    "for index, row in df.iterrows():\n",
    "    if row['lat'] in df_weather:\n",
    "        print(f'The data of {row['lat']} has already been obtained.')\n",
    "    else:\n",
    "        params = {\n",
    "            \"dataset\": \"daily-summaries\",\n",
    "            \"stations\": f\"{row['STATION']}\", \n",
    "            \"startDate\": \"1900-01-01\",\n",
    "            \"endDate\": \"2025-02-27\",\n",
    "            \"format\": \"json\"\n",
    "        }\n",
    "        \n",
    "        response = requests.get(base_url, params=params)\n",
    "        \n",
    "        if response.status_code == 200:\n",
    "            print(f\"Obtaining weather...\")\n",
    "            data = response.json()\n",
    "            if not data:\n",
    "                print(f\"There's no weather data.\")\n",
    "            else:\n",
    "                print('Succeeded!')\n",
    "                df_weather[f'{row['lat']}'] = data\n",
    "                time.sleep(1)\n",
    "        else:\n",
    "            print(\"Error:\", response.status_code, response.text)"
   ]
  },
  {
   "cell_type": "code",
   "execution_count": null,
   "id": "99f11f4e-aae0-4616-8abf-ab8aee9534c4",
   "metadata": {},
   "outputs": [],
   "source": [
    "dfs = [] \n",
    "for location, json_data in df_weather.items():\n",
    "    df = pd.DataFrame(json_data)  \n",
    "    dfs.append(df) \n",
    "\n",
    "result_df = pd.concat(dfs, ignore_index=True)\n",
    "result_df.drop_duplicates(inplace=True)\n",
    "\n",
    "out_df = df.merge(result_df, on='STATION', how='left')\n",
    "out_df = out_df[['DATE', 'TMAX', 'TMIN', 'PRCP', 'lat', 'long']]\n",
    "output_df = out_df[~((out_df.TMAX.isna()) & (out_df.TMAX.isna()))]\n",
    "output_df.to_csv(f'{coutry}_weather.csv', index=False)"
   ]
  },
  {
   "cell_type": "code",
   "execution_count": null,
   "id": "595955ea-c5a1-4f60-9448-0486af6e38a1",
   "metadata": {},
   "outputs": [],
   "source": [
    "for "
   ]
  }
 ],
 "metadata": {
  "kernelspec": {
   "display_name": "Python 3 (ipykernel)",
   "language": "python",
   "name": "python3"
  },
  "language_info": {
   "codemirror_mode": {
    "name": "ipython",
    "version": 3
   },
   "file_extension": ".py",
   "mimetype": "text/x-python",
   "name": "python",
   "nbconvert_exporter": "python",
   "pygments_lexer": "ipython3",
   "version": "3.12.4"
  }
 },
 "nbformat": 4,
 "nbformat_minor": 5
}
